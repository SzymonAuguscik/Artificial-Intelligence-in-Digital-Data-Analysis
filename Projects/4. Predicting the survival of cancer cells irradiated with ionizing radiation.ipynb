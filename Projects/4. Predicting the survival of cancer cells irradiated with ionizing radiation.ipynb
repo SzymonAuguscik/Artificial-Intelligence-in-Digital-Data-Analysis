{
 "cells": [
  {
   "cell_type": "markdown",
   "id": "cfee061b",
   "metadata": {},
   "source": [
    "## Data Preprocessing"
   ]
  },
  {
   "cell_type": "code",
   "execution_count": 88,
   "id": "8d06aa2d",
   "metadata": {},
   "outputs": [],
   "source": [
    "import re\n",
    "import pandas as pd\n",
    "from typing import List"
   ]
  },
  {
   "cell_type": "code",
   "execution_count": 98,
   "id": "4b252cef",
   "metadata": {},
   "outputs": [],
   "source": [
    "def read_dataset(filepath: str) -> pd.DataFrame:\n",
    "    with open(filepath) as raw_data:\n",
    "        raw_lines = raw_data.readlines()\n",
    "        lines = transform_raw_lines_to_lists(raw_lines)\n",
    "        experiments_count = int(float(lines[1][0]))\n",
    "        offset = 1\n",
    "        data = []\n",
    "        for _ in range(experiments_count):\n",
    "            offset += 1\n",
    "            experiment_header_line = lines[offset]\n",
    "            experiment_data, offset = read_experiment_data(lines, experiment_header_line, offset)\n",
    "            data += experiment_data\n",
    "            \n",
    "    return pd.DataFrame(data, columns=[\"atom_number\", \"beta\", \"dose\", \"mean_survivability\", \"min_survivability\", \"max_survivability\", \"error_of_measurement\"])\n",
    "\n",
    "\n",
    "def transform_raw_lines_to_lists(raw_lines: List[str]) -> List:\n",
    "    lines = []\n",
    "    for raw_line in raw_lines:\n",
    "        line = re.split(r' ', raw_line)\n",
    "        line = [number for number in line if number != '']\n",
    "        lines.append(line)\n",
    "    return lines\n",
    "\n",
    "\n",
    "def read_experiment_data(lines: List, experiment_header_line: List, offset: int) -> (List, int):\n",
    "    experiment_count = int(float(experiment_header_line[0]))\n",
    "    atom_number = int(float(experiment_header_line[1]))\n",
    "    beta = float(experiment_header_line[2])\n",
    "    return read_measurement_points(experiment_count, lines, offset, atom_number, beta)\n",
    "\n",
    "\n",
    "def read_measurement_points(experiment_count: int, lines: List[str], offset: int, atom_number: int, beta: float) -> (List, int):\n",
    "    # atom_number, beta, dose, mean_survivability, min_survivability, max_survivability, error_of_measurement\n",
    "    measurements_data = []\n",
    "    for _ in range(experiment_count):\n",
    "        offset += 1\n",
    "        line = lines[offset]\n",
    "        measurement_data = read_measurement_point(line, atom_number, beta)\n",
    "        measurements_data.append(measurement_data)\n",
    "    return measurements_data, offset\n",
    "\n",
    "\n",
    "def read_measurement_point(line: List, atom_number: int, beta: float) -> List:\n",
    "    return [atom_number, beta] + [float(number) for number in line]\n",
    "\n",
    "              "
   ]
  },
  {
   "cell_type": "code",
   "execution_count": 99,
   "id": "0423e206",
   "metadata": {},
   "outputs": [],
   "source": [
    "dataset = read_dataset(\"../data/SUR5_Train.DAT\")"
   ]
  }
 ],
 "metadata": {
  "kernelspec": {
   "display_name": "Python 3",
   "language": "python",
   "name": "python3"
  },
  "language_info": {
   "codemirror_mode": {
    "name": "ipython",
    "version": 3
   },
   "file_extension": ".py",
   "mimetype": "text/x-python",
   "name": "python",
   "nbconvert_exporter": "python",
   "pygments_lexer": "ipython3",
   "version": "3.8.2"
  }
 },
 "nbformat": 4,
 "nbformat_minor": 5
}
